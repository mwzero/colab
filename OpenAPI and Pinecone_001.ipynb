{
  "nbformat": 4,
  "nbformat_minor": 0,
  "metadata": {
    "colab": {
      "provenance": [],
      "authorship_tag": "ABX9TyO3u87liawAtTaLCiBn8BRJ",
      "include_colab_link": true
    },
    "kernelspec": {
      "name": "python3",
      "display_name": "Python 3"
    },
    "language_info": {
      "name": "python"
    }
  },
  "cells": [
    {
      "cell_type": "markdown",
      "metadata": {
        "id": "view-in-github",
        "colab_type": "text"
      },
      "source": [
        "<a href=\"https://colab.research.google.com/github/mwzero/colab/blob/main/OpenAPI%20and%20Pinecone_001.ipynb\" target=\"_parent\"><img src=\"https://colab.research.google.com/assets/colab-badge.svg\" alt=\"Open In Colab\"/></a>"
      ]
    },
    {
      "cell_type": "code",
      "execution_count": null,
      "metadata": {
        "id": "9pwCRN7-vgP-"
      },
      "outputs": [],
      "source": [
        "!pip install --upgrade openai\n",
        "!pip install pinecone-client"
      ]
    },
    {
      "cell_type": "code",
      "source": [
        "#import openai and pinecone clients\n",
        "import openai\n",
        "import pinecone"
      ],
      "metadata": {
        "id": "E_eX6pHnx-wG"
      },
      "execution_count": null,
      "outputs": []
    },
    {
      "cell_type": "code",
      "source": [
        "OPENAI_API = \".....\"\n",
        "PINECODE_API= \"....\"\n",
        "PINECODE_INDEX=\"....\""
      ],
      "metadata": {
        "id": "njMESMRq4gzz"
      },
      "execution_count": 15,
      "outputs": []
    },
    {
      "cell_type": "code",
      "source": [
        "pinecone.init(\n",
        "    api_key=PINECODE_API,\n",
        "    environment=\"us-west1-gcp\"  # find next to API key in console\n",
        ")\n",
        "\n",
        "rfpmate_index = pinecone.Index(PINECODE_INDEX)"
      ],
      "metadata": {
        "id": "f_hQvKI7yHQ-"
      },
      "execution_count": 16,
      "outputs": []
    },
    {
      "cell_type": "code",
      "source": [
        "openai.api_key = OPENAI_API\n",
        "MODEL = \"text-embedding-ada-002\""
      ],
      "metadata": {
        "id": "7hygoN1I4Mvz"
      },
      "execution_count": 17,
      "outputs": []
    },
    {
      "cell_type": "code",
      "source": [
        "query = \"What are the main security measures you use in software development?\"\n",
        "xq = openai.Embedding.create(input=query, engine=MODEL)['data'][0]['embedding']\n",
        "res = rfpmate_index.query([xq], top_k=5, include_metadata=True)"
      ],
      "metadata": {
        "id": "JUe0WTjb4I-D"
      },
      "execution_count": 18,
      "outputs": []
    },
    {
      "cell_type": "code",
      "source": [
        "for match in res['matches']:\n",
        "    print(f\"{match['score']:.2f}: {match['metadata']['Question']}\")    \n",
        "    print('---')\n",
        "    print(f\"{match['metadata']['Answer']}\")\n",
        "    print('******')"
      ],
      "metadata": {
        "id": "-QgENHA_4Si7"
      },
      "execution_count": null,
      "outputs": []
    }
  ]
}